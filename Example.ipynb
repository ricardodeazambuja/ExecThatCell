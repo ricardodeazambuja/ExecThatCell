{
 "cells": [
  {
   "cell_type": "code",
   "execution_count": null,
   "metadata": {},
   "outputs": [],
   "source": [
    "!pip3 install git+git://github.com/ricardodeazambuja/ExecThatCell"
   ]
  },
  {
   "cell_type": "code",
   "execution_count": 1,
   "metadata": {},
   "outputs": [],
   "source": [
    "from execthatcell import *"
   ]
  },
  {
   "cell_type": "code",
   "execution_count": 2,
   "metadata": {
    "tags": []
   },
   "outputs": [
    {
     "output_type": "stream",
     "name": "stdout",
     "text": "This is the cell_counter number 1\ncell 1\n"
    },
    {
     "output_type": "execute_result",
     "data": {
      "text/plain": "'\\nwith multiple lines\\n'"
     },
     "metadata": {},
     "execution_count": 2
    }
   ],
   "source": [
    "#@#cool_label\n",
    "try:\n",
    "    cell_counter += 1\n",
    "except:\n",
    "    cell_counter = 1\n",
    "    \n",
    "print(f\"This is the cell_counter number {cell_counter}\")\n",
    "\n",
    "print(\"cell 1\")\n",
    "\n",
    "# big cell\n",
    "\n",
    "\"\"\"\n",
    "with multiple lines\n",
    "\"\"\""
   ]
  },
  {
   "cell_type": "code",
   "execution_count": 3,
   "metadata": {
    "tags": []
   },
   "outputs": [
    {
     "output_type": "stream",
     "name": "stdout",
     "text": "Hello from 2\n"
    }
   ],
   "source": [
    "#@#2\n",
    "print(\"Hello from 2\")"
   ]
  },
  {
   "cell_type": "code",
   "execution_count": 4,
   "metadata": {
    "tags": []
   },
   "outputs": [
    {
     "output_type": "stream",
     "name": "stdout",
     "text": "Hello from 22\n"
    }
   ],
   "source": [
    "#@#22\n",
    "print(\"Hello from 22\")"
   ]
  },
  {
   "cell_type": "code",
   "execution_count": 5,
   "metadata": {
    "tags": []
   },
   "outputs": [
    {
     "output_type": "stream",
     "name": "stdout",
     "text": "This is the cell_counter number 2\ncell 1\n"
    }
   ],
   "source": [
    "execthatcell(\"cool_label\", cell_marker=\"#@#\", latest=True)"
   ]
  },
  {
   "cell_type": "code",
   "execution_count": 6,
   "metadata": {
    "tags": []
   },
   "outputs": [
    {
     "output_type": "stream",
     "name": "stdout",
     "text": "This is the cell_counter number 3\ncell 1\n"
    }
   ],
   "source": [
    "execthatcell(\"cool_label\", cell_marker=\"#@#\", latest=True)"
   ]
  },
  {
   "cell_type": "code",
   "execution_count": 7,
   "metadata": {
    "tags": []
   },
   "outputs": [
    {
     "output_type": "stream",
     "name": "stdout",
     "text": "Hello from 2\n"
    }
   ],
   "source": [
    "execthatcell(\"2\", cell_marker=\"#@#\", latest=True)"
   ]
  },
  {
   "cell_type": "code",
   "execution_count": 8,
   "metadata": {
    "tags": []
   },
   "outputs": [
    {
     "output_type": "stream",
     "name": "stdout",
     "text": "Hello from 22\n"
    }
   ],
   "source": [
    "execthatcell(\"22\", cell_marker=\"#@#\", latest=True)"
   ]
  },
  {
   "cell_type": "code",
   "execution_count": 9,
   "metadata": {
    "tags": []
   },
   "outputs": [
    {
     "output_type": "stream",
     "name": "stdout",
     "text": "This is the cell_counter number 4\ncell 1\nThis is the cell_counter number 5\ncell 1\nThis is the cell_counter number 6\ncell 1\nThis is the cell_counter number 7\ncell 1\nThis is the cell_counter number 8\ncell 1\nThis is the cell_counter number 9\ncell 1\nThis is the cell_counter number 10\ncell 1\nThis is the cell_counter number 11\ncell 1\nThis is the cell_counter number 12\ncell 1\nThis is the cell_counter number 13\ncell 1\n"
    }
   ],
   "source": [
    "for _ in range(10):\n",
    "    execthatcell(\"cool_label\", cell_marker=\"#@#\", latest=True)"
   ]
  },
  {
   "cell_type": "code",
   "execution_count": 10,
   "metadata": {
    "tags": []
   },
   "outputs": [
    {
     "output_type": "stream",
     "name": "stdout",
     "text": "hooray!\n"
    },
    {
     "output_type": "error",
     "ename": "LabelNotFound",
     "evalue": "The cellmarker '#@#' with label 'wrong_label' was not found!",
     "traceback": [
      "\u001b[0;31m---------------------------------------------------------------------------\u001b[0m",
      "\u001b[0;31mLabelNotFound\u001b[0m                             Traceback (most recent call last)",
      "\u001b[0;32m<ipython-input-10-baf608888e14>\u001b[0m in \u001b[0;36m<module>\u001b[0;34m\u001b[0m\n\u001b[1;32m      2\u001b[0m \u001b[0;34m\u001b[0m\u001b[0m\n\u001b[1;32m      3\u001b[0m \u001b[0;32mtry\u001b[0m\u001b[0;34m:\u001b[0m\u001b[0;34m\u001b[0m\u001b[0;34m\u001b[0m\u001b[0m\n\u001b[0;32m----> 4\u001b[0;31m     \u001b[0mexecthatcell\u001b[0m\u001b[0;34m(\u001b[0m\u001b[0;34m\"wrong_label\"\u001b[0m\u001b[0;34m,\u001b[0m \u001b[0mcell_marker\u001b[0m\u001b[0;34m=\u001b[0m\u001b[0;34m\"#@#\"\u001b[0m\u001b[0;34m,\u001b[0m \u001b[0mlatest\u001b[0m\u001b[0;34m=\u001b[0m\u001b[0;32mTrue\u001b[0m\u001b[0;34m)\u001b[0m\u001b[0;34m\u001b[0m\u001b[0;34m\u001b[0m\u001b[0m\n\u001b[0m\u001b[1;32m      5\u001b[0m \u001b[0;32mexcept\u001b[0m \u001b[0mLabelNotFound\u001b[0m\u001b[0;34m:\u001b[0m\u001b[0;34m\u001b[0m\u001b[0;34m\u001b[0m\u001b[0m\n\u001b[1;32m      6\u001b[0m     \u001b[0mprint\u001b[0m\u001b[0;34m(\u001b[0m\u001b[0;34m\"hooray!\"\u001b[0m\u001b[0;34m)\u001b[0m\u001b[0;34m\u001b[0m\u001b[0;34m\u001b[0m\u001b[0m\n",
      "\u001b[0;32m~/GitStuff/ExecThatCell/execthatcell/__init__.py\u001b[0m in \u001b[0;36mexecthatcell\u001b[0;34m(label, cell_marker, latest, exec_it)\u001b[0m\n\u001b[1;32m     85\u001b[0m     \u001b[0;32mraise\u001b[0m \u001b[0mCellMarkerNotFound\u001b[0m\u001b[0;34m(\u001b[0m\u001b[0mcell_marker\u001b[0m\u001b[0;34m)\u001b[0m\u001b[0;34m\u001b[0m\u001b[0;34m\u001b[0m\u001b[0m\n\u001b[1;32m     86\u001b[0m   \u001b[0;32melse\u001b[0m\u001b[0;34m:\u001b[0m\u001b[0;34m\u001b[0m\u001b[0;34m\u001b[0m\u001b[0m\n\u001b[0;32m---> 87\u001b[0;31m     \u001b[0;32mraise\u001b[0m \u001b[0mLabelNotFound\u001b[0m\u001b[0;34m(\u001b[0m\u001b[0mcell_marker\u001b[0m\u001b[0;34m,\u001b[0m\u001b[0mlabel\u001b[0m\u001b[0;34m)\u001b[0m\u001b[0;34m\u001b[0m\u001b[0;34m\u001b[0m\u001b[0m\n\u001b[0m",
      "\u001b[0;31mLabelNotFound\u001b[0m: The cellmarker '#@#' with label 'wrong_label' was not found!"
     ]
    }
   ],
   "source": [
    "# Now with custom exceptions!\n",
    "\n",
    "try:\n",
    "    execthatcell(\"wrong_label\", cell_marker=\"#@#\", latest=True)\n",
    "except LabelNotFound:\n",
    "    print(\"hooray!\")\n",
    "    raise"
   ]
  },
  {
   "cell_type": "code",
   "execution_count": 11,
   "metadata": {
    "tags": []
   },
   "outputs": [
    {
     "output_type": "stream",
     "name": "stdout",
     "text": "hooray!\n"
    },
    {
     "output_type": "error",
     "ename": "CellMarkerNotFound",
     "evalue": "The cellmarker '#@##' was not found!",
     "traceback": [
      "\u001b[0;31m---------------------------------------------------------------------------\u001b[0m",
      "\u001b[0;31mCellMarkerNotFound\u001b[0m                        Traceback (most recent call last)",
      "\u001b[0;32m<ipython-input-11-810b1357fc90>\u001b[0m in \u001b[0;36m<module>\u001b[0;34m\u001b[0m\n\u001b[1;32m      2\u001b[0m \u001b[0;34m\u001b[0m\u001b[0m\n\u001b[1;32m      3\u001b[0m \u001b[0;32mtry\u001b[0m\u001b[0;34m:\u001b[0m\u001b[0;34m\u001b[0m\u001b[0;34m\u001b[0m\u001b[0m\n\u001b[0;32m----> 4\u001b[0;31m     \u001b[0mexecthatcell\u001b[0m\u001b[0;34m(\u001b[0m\u001b[0;34m\"cool_label\"\u001b[0m\u001b[0;34m,\u001b[0m \u001b[0mcell_marker\u001b[0m\u001b[0;34m=\u001b[0m\u001b[0;34m\"#@##\"\u001b[0m\u001b[0;34m,\u001b[0m \u001b[0mlatest\u001b[0m\u001b[0;34m=\u001b[0m\u001b[0;32mTrue\u001b[0m\u001b[0;34m)\u001b[0m\u001b[0;34m\u001b[0m\u001b[0;34m\u001b[0m\u001b[0m\n\u001b[0m\u001b[1;32m      5\u001b[0m \u001b[0;32mexcept\u001b[0m \u001b[0mCellMarkerNotFound\u001b[0m\u001b[0;34m:\u001b[0m\u001b[0;34m\u001b[0m\u001b[0;34m\u001b[0m\u001b[0m\n\u001b[1;32m      6\u001b[0m     \u001b[0mprint\u001b[0m\u001b[0;34m(\u001b[0m\u001b[0;34m\"hooray!\"\u001b[0m\u001b[0;34m)\u001b[0m\u001b[0;34m\u001b[0m\u001b[0;34m\u001b[0m\u001b[0m\n",
      "\u001b[0;32m~/GitStuff/ExecThatCell/execthatcell/__init__.py\u001b[0m in \u001b[0;36mexecthatcell\u001b[0;34m(label, cell_marker, latest, exec_it)\u001b[0m\n\u001b[1;32m     83\u001b[0m             \u001b[0;32mreturn\u001b[0m \u001b[0mi\u001b[0m\u001b[0;34m*\u001b[0m\u001b[0morder\u001b[0m\u001b[0;34m+\u001b[0m\u001b[0moffset\u001b[0m\u001b[0;34m\u001b[0m\u001b[0;34m\u001b[0m\u001b[0m\n\u001b[1;32m     84\u001b[0m   \u001b[0;32mif\u001b[0m \u001b[0;32mnot\u001b[0m \u001b[0mcell_marker_found\u001b[0m\u001b[0;34m:\u001b[0m\u001b[0;34m\u001b[0m\u001b[0;34m\u001b[0m\u001b[0m\n\u001b[0;32m---> 85\u001b[0;31m     \u001b[0;32mraise\u001b[0m \u001b[0mCellMarkerNotFound\u001b[0m\u001b[0;34m(\u001b[0m\u001b[0mcell_marker\u001b[0m\u001b[0;34m)\u001b[0m\u001b[0;34m\u001b[0m\u001b[0;34m\u001b[0m\u001b[0m\n\u001b[0m\u001b[1;32m     86\u001b[0m   \u001b[0;32melse\u001b[0m\u001b[0;34m:\u001b[0m\u001b[0;34m\u001b[0m\u001b[0;34m\u001b[0m\u001b[0m\n\u001b[1;32m     87\u001b[0m     \u001b[0;32mraise\u001b[0m \u001b[0mLabelNotFound\u001b[0m\u001b[0;34m(\u001b[0m\u001b[0mcell_marker\u001b[0m\u001b[0;34m,\u001b[0m\u001b[0mlabel\u001b[0m\u001b[0;34m)\u001b[0m\u001b[0;34m\u001b[0m\u001b[0;34m\u001b[0m\u001b[0m\n",
      "\u001b[0;31mCellMarkerNotFound\u001b[0m: The cellmarker '#@##' was not found!"
     ]
    }
   ],
   "source": [
    "# Now with custom exceptions!\n",
    "\n",
    "try:\n",
    "    execthatcell(\"cool_label\", cell_marker=\"#@##\", latest=True)\n",
    "except CellMarkerNotFound:\n",
    "    print(\"hooray!\")\n",
    "    raise"
   ]
  },
  {
   "cell_type": "code",
   "execution_count": 12,
   "metadata": {},
   "outputs": [
    {
     "output_type": "error",
     "ename": "LabelNotFound",
     "evalue": "The cellmarker '#@#' with label '222' was not found!",
     "traceback": [
      "\u001b[0;31m---------------------------------------------------------------------------\u001b[0m",
      "\u001b[0;31mLabelNotFound\u001b[0m                             Traceback (most recent call last)",
      "\u001b[0;32m<ipython-input-12-1382e62648e4>\u001b[0m in \u001b[0;36m<module>\u001b[0;34m\u001b[0m\n\u001b[1;32m      1\u001b[0m \u001b[0;31m# Now with custom exceptions!\u001b[0m\u001b[0;34m\u001b[0m\u001b[0;34m\u001b[0m\u001b[0;34m\u001b[0m\u001b[0m\n\u001b[1;32m      2\u001b[0m \u001b[0;34m\u001b[0m\u001b[0m\n\u001b[0;32m----> 3\u001b[0;31m \u001b[0mexecthatcell\u001b[0m\u001b[0;34m(\u001b[0m\u001b[0;34m\"222\"\u001b[0m\u001b[0;34m,\u001b[0m \u001b[0mcell_marker\u001b[0m\u001b[0;34m=\u001b[0m\u001b[0;34m\"#@#\"\u001b[0m\u001b[0;34m,\u001b[0m \u001b[0mlatest\u001b[0m\u001b[0;34m=\u001b[0m\u001b[0;32mTrue\u001b[0m\u001b[0;34m)\u001b[0m\u001b[0;34m\u001b[0m\u001b[0;34m\u001b[0m\u001b[0m\n\u001b[0m",
      "\u001b[0;32m~/GitStuff/ExecThatCell/execthatcell/__init__.py\u001b[0m in \u001b[0;36mexecthatcell\u001b[0;34m(label, cell_marker, latest, exec_it)\u001b[0m\n\u001b[1;32m     85\u001b[0m     \u001b[0;32mraise\u001b[0m \u001b[0mCellMarkerNotFound\u001b[0m\u001b[0;34m(\u001b[0m\u001b[0mcell_marker\u001b[0m\u001b[0;34m)\u001b[0m\u001b[0;34m\u001b[0m\u001b[0;34m\u001b[0m\u001b[0m\n\u001b[1;32m     86\u001b[0m   \u001b[0;32melse\u001b[0m\u001b[0;34m:\u001b[0m\u001b[0;34m\u001b[0m\u001b[0;34m\u001b[0m\u001b[0m\n\u001b[0;32m---> 87\u001b[0;31m     \u001b[0;32mraise\u001b[0m \u001b[0mLabelNotFound\u001b[0m\u001b[0;34m(\u001b[0m\u001b[0mcell_marker\u001b[0m\u001b[0;34m,\u001b[0m\u001b[0mlabel\u001b[0m\u001b[0;34m)\u001b[0m\u001b[0;34m\u001b[0m\u001b[0;34m\u001b[0m\u001b[0m\n\u001b[0m",
      "\u001b[0;31mLabelNotFound\u001b[0m: The cellmarker '#@#' with label '222' was not found!"
     ]
    }
   ],
   "source": [
    "# Now with custom exceptions!\n",
    "\n",
    "execthatcell(\"222\", cell_marker=\"#@#\", latest=True)"
   ]
  }
 ],
 "metadata": {
  "kernelspec": {
   "display_name": "Python 3",
   "language": "python",
   "name": "python3"
  },
  "language_info": {
   "codemirror_mode": {
    "name": "ipython",
    "version": 3
   },
   "file_extension": ".py",
   "mimetype": "text/x-python",
   "name": "python",
   "nbconvert_exporter": "python",
   "pygments_lexer": "ipython3",
   "version": "3.7.6-final"
  }
 },
 "nbformat": 4,
 "nbformat_minor": 4
}