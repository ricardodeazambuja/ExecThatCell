{
 "cells": [
  {
   "cell_type": "code",
   "execution_count": null,
   "metadata": {},
   "outputs": [],
   "source": [
    "!pip3 install git+git://github.com/ricardodeazambuja/ExecThatCell"
   ]
  },
  {
   "cell_type": "code",
   "execution_count": 1,
   "metadata": {},
   "outputs": [],
   "source": [
    "from execthatcell import *"
   ]
  },
  {
   "cell_type": "code",
   "execution_count": 2,
   "metadata": {},
   "outputs": [
    {
     "name": "stdout",
     "output_type": "stream",
     "text": [
      "This is the cell_counter number 1\n",
      "cell 1\n"
     ]
    },
    {
     "data": {
      "text/plain": [
       "'\\nwith multiple lines\\n'"
      ]
     },
     "execution_count": 2,
     "metadata": {},
     "output_type": "execute_result"
    }
   ],
   "source": [
    "#@#cool_label\n",
    "try:\n",
    "    cell_counter += 1\n",
    "except:\n",
    "    cell_counter = 1\n",
    "    \n",
    "print(f\"This is the cell_counter number {cell_counter}\")\n",
    "\n",
    "print(\"cell 1\")\n",
    "\n",
    "# big cell\n",
    "\n",
    "\"\"\"\n",
    "with multiple lines\n",
    "\"\"\""
   ]
  },
  {
   "cell_type": "code",
   "execution_count": 3,
   "metadata": {},
   "outputs": [
    {
     "name": "stdout",
     "output_type": "stream",
     "text": [
      "This is the cell_counter number 2\n",
      "cell 1\n"
     ]
    }
   ],
   "source": [
    "execthatcell(\"cool_label\", cell_marker=\"#@#\", latest=True)"
   ]
  },
  {
   "cell_type": "code",
   "execution_count": 4,
   "metadata": {},
   "outputs": [
    {
     "name": "stdout",
     "output_type": "stream",
     "text": [
      "This is the cell_counter number 3\n",
      "cell 1\n"
     ]
    }
   ],
   "source": [
    "execthatcell(\"cool_label\", cell_marker=\"#@#\", latest=True)"
   ]
  },
  {
   "cell_type": "code",
   "execution_count": 5,
   "metadata": {},
   "outputs": [
    {
     "name": "stdout",
     "output_type": "stream",
     "text": [
      "This is the cell_counter number 4\n",
      "cell 1\n",
      "This is the cell_counter number 5\n",
      "cell 1\n",
      "This is the cell_counter number 6\n",
      "cell 1\n",
      "This is the cell_counter number 7\n",
      "cell 1\n",
      "This is the cell_counter number 8\n",
      "cell 1\n",
      "This is the cell_counter number 9\n",
      "cell 1\n",
      "This is the cell_counter number 10\n",
      "cell 1\n",
      "This is the cell_counter number 11\n",
      "cell 1\n",
      "This is the cell_counter number 12\n",
      "cell 1\n",
      "This is the cell_counter number 13\n",
      "cell 1\n"
     ]
    }
   ],
   "source": [
    "for _ in range(10):\n",
    "    execthatcell(\"cool_label\", cell_marker=\"#@#\", latest=True)"
   ]
  }
 ],
 "metadata": {
  "kernelspec": {
   "display_name": "Python 3",
   "language": "python",
   "name": "python3"
  },
  "language_info": {
   "codemirror_mode": {
    "name": "ipython",
    "version": 3
   },
   "file_extension": ".py",
   "mimetype": "text/x-python",
   "name": "python",
   "nbconvert_exporter": "python",
   "pygments_lexer": "ipython3",
   "version": "3.7.6"
  }
 },
 "nbformat": 4,
 "nbformat_minor": 4
}
